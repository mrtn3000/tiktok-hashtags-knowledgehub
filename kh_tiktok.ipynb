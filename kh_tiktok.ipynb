{
 "cells": [
  {
   "attachments": {},
   "cell_type": "markdown",
   "metadata": {},
   "source": [
    "# Visualising a Hashtag-Network of TikTok"
   ]
  },
  {
   "cell_type": "code",
   "execution_count": 15,
   "metadata": {},
   "outputs": [
    {
     "name": "stdout",
     "output_type": "stream",
     "text": [
      "Collecting pyvis\n",
      "  Downloading pyvis-0.3.2-py3-none-any.whl (756 kB)\n",
      "\u001b[2K     \u001b[90m━━━━━━━━━━━━━━━━━━━━━━━━━━━━━━━━━━━━━━━\u001b[0m \u001b[32m756.0/756.0 kB\u001b[0m \u001b[31m6.0 MB/s\u001b[0m eta \u001b[36m0:00:00\u001b[0ma \u001b[36m0:00:01\u001b[0m\n",
      "\u001b[?25hRequirement already satisfied: numpy in /home/mdegeling/.local/miniconda3/lib/python3.9/site-packages (1.22.3)\n",
      "Collecting ipython>=5.3.0 (from pyvis)\n",
      "  Obtaining dependency information for ipython>=5.3.0 from https://files.pythonhosted.org/packages/52/d1/f70cdafba20030cbc1412d7a7d6a89c5035071835cc50e47fc5ed8da553c/ipython-8.14.0-py3-none-any.whl.metadata\n",
      "  Downloading ipython-8.14.0-py3-none-any.whl.metadata (5.8 kB)\n",
      "Requirement already satisfied: jinja2>=2.9.6 in /home/mdegeling/.local/miniconda3/lib/python3.9/site-packages (from pyvis) (3.1.2)\n",
      "Collecting jsonpickle>=1.4.1 (from pyvis)\n",
      "  Obtaining dependency information for jsonpickle>=1.4.1 from https://files.pythonhosted.org/packages/d3/25/6e0a450430b7aa194b0f515f64820fc619314faa289458b7dfca4a026114/jsonpickle-3.0.2-py3-none-any.whl.metadata\n",
      "  Downloading jsonpickle-3.0.2-py3-none-any.whl.metadata (7.5 kB)\n",
      "Collecting networkx>=1.11 (from pyvis)\n",
      "  Downloading networkx-3.1-py3-none-any.whl (2.1 MB)\n",
      "\u001b[2K     \u001b[90m━━━━━━━━━━━━━━━━━━━━━━━━━━━━━━━━━━━━━━━━\u001b[0m \u001b[32m2.1/2.1 MB\u001b[0m \u001b[31m6.7 MB/s\u001b[0m eta \u001b[36m0:00:00\u001b[0m00:01\u001b[0m00:01\u001b[0m\n",
      "\u001b[?25hCollecting backcall (from ipython>=5.3.0->pyvis)\n",
      "  Downloading backcall-0.2.0-py2.py3-none-any.whl (11 kB)\n",
      "Requirement already satisfied: decorator in /home/mdegeling/.local/miniconda3/lib/python3.9/site-packages (from ipython>=5.3.0->pyvis) (5.1.1)\n",
      "Collecting jedi>=0.16 (from ipython>=5.3.0->pyvis)\n",
      "  Obtaining dependency information for jedi>=0.16 from https://files.pythonhosted.org/packages/8e/46/7e3ae3aa2dcfcffc5138c6cef5448523218658411c84a2000bf75c8d3ec1/jedi-0.19.0-py2.py3-none-any.whl.metadata\n",
      "  Downloading jedi-0.19.0-py2.py3-none-any.whl.metadata (22 kB)\n",
      "Collecting matplotlib-inline (from ipython>=5.3.0->pyvis)\n",
      "  Downloading matplotlib_inline-0.1.6-py3-none-any.whl (9.4 kB)\n",
      "Collecting pickleshare (from ipython>=5.3.0->pyvis)\n",
      "  Downloading pickleshare-0.7.5-py2.py3-none-any.whl (6.9 kB)\n",
      "Requirement already satisfied: prompt-toolkit!=3.0.37,<3.1.0,>=3.0.30 in /home/mdegeling/.local/miniconda3/lib/python3.9/site-packages (from ipython>=5.3.0->pyvis) (3.0.31)\n",
      "Requirement already satisfied: pygments>=2.4.0 in /home/mdegeling/.local/miniconda3/lib/python3.9/site-packages (from ipython>=5.3.0->pyvis) (2.13.0)\n",
      "Collecting stack-data (from ipython>=5.3.0->pyvis)\n",
      "  Downloading stack_data-0.6.2-py3-none-any.whl (24 kB)\n",
      "Collecting traitlets>=5 (from ipython>=5.3.0->pyvis)\n",
      "  Downloading traitlets-5.9.0-py3-none-any.whl (117 kB)\n",
      "\u001b[2K     \u001b[90m━━━━━━━━━━━━━━━━━━━━━━━━━━━━━━━━━━━━━━━\u001b[0m \u001b[32m117.4/117.4 kB\u001b[0m \u001b[31m7.2 MB/s\u001b[0m eta \u001b[36m0:00:00\u001b[0m\n",
      "\u001b[?25hCollecting typing-extensions (from ipython>=5.3.0->pyvis)\n",
      "  Obtaining dependency information for typing-extensions from https://files.pythonhosted.org/packages/ec/6b/63cc3df74987c36fe26157ee12e09e8f9db4de771e0f3404263117e75b95/typing_extensions-4.7.1-py3-none-any.whl.metadata\n",
      "  Using cached typing_extensions-4.7.1-py3-none-any.whl.metadata (3.1 kB)\n",
      "Collecting pexpect>4.3 (from ipython>=5.3.0->pyvis)\n",
      "  Downloading pexpect-4.8.0-py2.py3-none-any.whl (59 kB)\n",
      "\u001b[2K     \u001b[90m━━━━━━━━━━━━━━━━━━━━━━━━━━━━━━━━━━━━━━━━\u001b[0m \u001b[32m59.0/59.0 kB\u001b[0m \u001b[31m12.7 MB/s\u001b[0m eta \u001b[36m0:00:00\u001b[0m\n",
      "\u001b[?25hRequirement already satisfied: MarkupSafe>=2.0 in /home/mdegeling/.local/miniconda3/lib/python3.9/site-packages (from jinja2>=2.9.6->pyvis) (2.1.1)\n",
      "Collecting parso<0.9.0,>=0.8.3 (from jedi>=0.16->ipython>=5.3.0->pyvis)\n",
      "  Downloading parso-0.8.3-py2.py3-none-any.whl (100 kB)\n",
      "\u001b[2K     \u001b[90m━━━━━━━━━━━━━━━━━━━━━━━━━━━━━━━━━━━━━━━\u001b[0m \u001b[32m100.8/100.8 kB\u001b[0m \u001b[31m7.7 MB/s\u001b[0m eta \u001b[36m0:00:00\u001b[0m\n",
      "\u001b[?25hCollecting ptyprocess>=0.5 (from pexpect>4.3->ipython>=5.3.0->pyvis)\n",
      "  Downloading ptyprocess-0.7.0-py2.py3-none-any.whl (13 kB)\n",
      "Requirement already satisfied: wcwidth in /home/mdegeling/.local/miniconda3/lib/python3.9/site-packages (from prompt-toolkit!=3.0.37,<3.1.0,>=3.0.30->ipython>=5.3.0->pyvis) (0.2.5)\n",
      "Collecting executing>=1.2.0 (from stack-data->ipython>=5.3.0->pyvis)\n",
      "  Downloading executing-1.2.0-py2.py3-none-any.whl (24 kB)\n",
      "Collecting asttokens>=2.1.0 (from stack-data->ipython>=5.3.0->pyvis)\n",
      "  Downloading asttokens-2.2.1-py2.py3-none-any.whl (26 kB)\n",
      "Collecting pure-eval (from stack-data->ipython>=5.3.0->pyvis)\n",
      "  Downloading pure_eval-0.2.2-py3-none-any.whl (11 kB)\n",
      "Requirement already satisfied: six in /home/mdegeling/.local/miniconda3/lib/python3.9/site-packages (from asttokens>=2.1.0->stack-data->ipython>=5.3.0->pyvis) (1.16.0)\n",
      "Downloading ipython-8.14.0-py3-none-any.whl (798 kB)\n",
      "\u001b[2K   \u001b[90m━━━━━━━━━━━━━━━━━━━━━━━━━━━━━━━━━━━━━━━━\u001b[0m \u001b[32m798.7/798.7 kB\u001b[0m \u001b[31m7.1 MB/s\u001b[0m eta \u001b[36m0:00:00\u001b[0m00:01\u001b[0m00:01\u001b[0m\n",
      "\u001b[?25hDownloading jsonpickle-3.0.2-py3-none-any.whl (40 kB)\n",
      "\u001b[2K   \u001b[90m━━━━━━━━━━━━━━━━━━━━━━━━━━━━━━━━━━━━━━━━\u001b[0m \u001b[32m40.7/40.7 kB\u001b[0m \u001b[31m12.1 MB/s\u001b[0m eta \u001b[36m0:00:00\u001b[0m\n",
      "\u001b[?25hDownloading jedi-0.19.0-py2.py3-none-any.whl (1.6 MB)\n",
      "\u001b[2K   \u001b[90m━━━━━━━━━━━━━━━━━━━━━━━━━━━━━━━━━━━━━━━━\u001b[0m \u001b[32m1.6/1.6 MB\u001b[0m \u001b[31m7.3 MB/s\u001b[0m eta \u001b[36m0:00:00\u001b[0ma \u001b[36m0:00:01\u001b[0m\n",
      "\u001b[?25hUsing cached typing_extensions-4.7.1-py3-none-any.whl (33 kB)\n",
      "Installing collected packages: pure-eval, ptyprocess, pickleshare, executing, backcall, typing-extensions, traitlets, pexpect, parso, networkx, jsonpickle, asttokens, stack-data, matplotlib-inline, jedi, ipython, pyvis\n",
      "Successfully installed asttokens-2.2.1 backcall-0.2.0 executing-1.2.0 ipython-8.14.0 jedi-0.19.0 jsonpickle-3.0.2 matplotlib-inline-0.1.6 networkx-3.1 parso-0.8.3 pexpect-4.8.0 pickleshare-0.7.5 ptyprocess-0.7.0 pure-eval-0.2.2 pyvis-0.3.2 stack-data-0.6.2 traitlets-5.9.0 typing-extensions-4.7.1\n"
     ]
    }
   ],
   "source": [
    "!pip install pyvis numpy"
   ]
  },
  {
   "cell_type": "markdown",
   "metadata": {},
   "source": [
    "First we are going to import the json database"
   ]
  },
  {
   "cell_type": "code",
   "execution_count": 16,
   "metadata": {},
   "outputs": [
    {
     "name": "stdout",
     "output_type": "stream",
     "text": [
      "200 videos in database\n"
     ]
    }
   ],
   "source": [
    "# Importing the data\n",
    "import json\n",
    "from itertools import combinations\n",
    "import numpy as np\n",
    "\n",
    "\n",
    "with open('tiktok-fyp-videos.json') as file:\n",
    "    database = json.load(file)\n",
    "print(len(database.keys()), \"videos in database\")"
   ]
  },
  {
   "attachments": {},
   "cell_type": "markdown",
   "metadata": {},
   "source": [
    "# Data Structure"
   ]
  },
  {
   "cell_type": "markdown",
   "metadata": {},
   "source": [
    "Next, we use `pprint` to have a look at the data structure of our database."
   ]
  },
  {
   "cell_type": "code",
   "execution_count": 17,
   "metadata": {},
   "outputs": [
    {
     "name": "stdout",
     "output_type": "stream",
     "text": [
      "{'id': '7246766598709726469',\n",
      " 'stats': {'collectCount': '7735',\n",
      "           'commentCount': 141,\n",
      "           'diggCount': 94300,\n",
      "           'playCount': 54800000,\n",
      "           'shareCount': 11500},\n",
      " 'textExtra': [{'awemeId': '',\n",
      "                'end': 126,\n",
      "                'hashtagId': '4855909',\n",
      "                'hashtagName': 'здоровье',\n",
      "                'isCommerce': False,\n",
      "                'secUid': '',\n",
      "                'start': 117,\n",
      "                'subType': 0,\n",
      "                'type': 1,\n",
      "                'userId': '',\n",
      "                'userUniqueId': ''},\n",
      "               {'awemeId': '',\n",
      "                'end': 146,\n",
      "                'hashtagId': '1703921397292034',\n",
      "                'hashtagName': 'долголетиездоровье',\n",
      "                'isCommerce': False,\n",
      "                'secUid': '',\n",
      "                'start': 127,\n",
      "                'subType': 0,\n",
      "                'type': 1,\n",
      "                'userId': '',\n",
      "                'userUniqueId': ''},\n",
      "               {'awemeId': '',\n",
      "                'end': 158,\n",
      "                'hashtagId': '1612810755364166',\n",
      "                'hashtagName': 'долголетие',\n",
      "                'isCommerce': False,\n",
      "                'secUid': '',\n",
      "                'start': 147,\n",
      "                'subType': 0,\n",
      "                'type': 1,\n",
      "                'userId': '',\n",
      "                'userUniqueId': ''}]}\n"
     ]
    }
   ],
   "source": [
    "import pprint\n",
    "pprint.pprint(next(iter(database.values())))"
   ]
  },
  {
   "cell_type": "markdown",
   "metadata": {},
   "source": [
    "We have set the scraper to only store the video id, the statistics of the video an the hashtags, which are listed in the `textExtra` field."
   ]
  },
  {
   "attachments": {},
   "cell_type": "markdown",
   "metadata": {},
   "source": [
    "# View statistics"
   ]
  },
  {
   "cell_type": "markdown",
   "metadata": {},
   "source": [
    "To get an overview of the data we can use `numpy` and `matplotlib` to compute basic statistics and plot the results."
   ]
  },
  {
   "cell_type": "code",
   "execution_count": 4,
   "metadata": {},
   "outputs": [
    {
     "name": "stdout",
     "output_type": "stream",
     "text": [
      "Average views: 14644389.5\n",
      "Median views: 6850000.0\n"
     ]
    }
   ],
   "source": [
    "video_views = []\n",
    "\n",
    "for video in database.values():\n",
    "    video_views.append(video[\"stats\"][\"playCount\"])\n",
    "\n",
    "# Calculate basic statistics\n",
    "average = np.mean(video_views)\n",
    "median = np.median(video_views)\n",
    "print(\"Average views:\", average)\n",
    "print(\"Median views:\", median)"
   ]
  },
  {
   "cell_type": "markdown",
   "metadata": {},
   "source": [
    "You'll see that the average and median of views are rather high, depending on how long you let your scraper run. The TikTok Website mostly shows videos that are highly engaging and have already received a high number of views on the past. \n",
    "When you notice a big difference between the average and the median this normally means that there are a few outliers that have received many times more views than the rest of the videos. We can also see this in the plot below."
   ]
  },
  {
   "cell_type": "code",
   "execution_count": 6,
   "metadata": {},
   "outputs": [
    {
     "data": {
      "image/png": "[encoded data removed]",
      "text/plain": [
       "<Figure size 640x480 with 1 Axes>"
      ]
     },
     "metadata": {},
     "output_type": "display_data"
    }
   ],
   "source": [
    "import matplotlib.pyplot as plt\n",
    "import matplotlib.ticker as ticker\n",
    "plt.hist(video_views, bins=1000)\n",
    "\n",
    "# Adding labels and title\n",
    "plt.xlabel('Value')\n",
    "plt.ylabel('Frequency')\n",
    "plt.title('Histogram of Video Views')\n",
    "#plt.xlim(left= 0, right=10000000)\n",
    "\n",
    "ax = plt.gca()\n",
    "ax.xaxis.set_major_formatter(ticker.FormatStrFormatter('%1.0f'))\n",
    "\n",
    "# Display the histogram\n",
    "plt.show()"
   ]
  },
  {
   "cell_type": "code",
   "execution_count": 7,
   "metadata": {},
   "outputs": [
    {
     "data": {
      "image/png": "[encoded data removed]",
      "text/plain": [
       "<Figure size 640x480 with 1 Axes>"
      ]
     },
     "metadata": {},
     "output_type": "display_data"
    }
   ],
   "source": [
    "plt.hist(video_views, bins=1000)\n",
    "plt.xlabel('Value')\n",
    "plt.ylabel('Frequency')\n",
    "plt.title('Histogram of Video Views')\n",
    "# Limit the histogram to ignore outliers\n",
    "plt.xlim(left= 0, right=10000000)\n",
    "ax = plt.gca()\n",
    "ax.xaxis.set_major_formatter(ticker.FormatStrFormatter('%1.0f'))\n",
    "plt.show()"
   ]
  },
  {
   "attachments": {},
   "cell_type": "markdown",
   "metadata": {},
   "source": [
    "# Hashtags"
   ]
  },
  {
   "cell_type": "code",
   "execution_count": 8,
   "metadata": {},
   "outputs": [
    {
     "name": "stdout",
     "output_type": "stream",
     "text": [
      "There are 44 videos without hashtags ( 22.0 %)\n",
      "The ten most common hashtags:\n",
      "['fyp', '', 'viral', 'foryou', 'foryoupage', 'fypシ', 'capcut', 'trending', 'xyzbca', 'funny', 'fy', 'fypシ゚viral', 'tiktok', 'اكسبلور', 'meme', 'здоровье', 'nekoglai', 'fypage', 'تركيا', 'fyppppppppppppppppppppppp']\n"
     ]
    }
   ],
   "source": [
    "videos_wo_hashtags = 0\n",
    "hashtag_occurences = {}\n",
    "\n",
    "for video in database.values():\n",
    "    video_views.append(video[\"stats\"][\"playCount\"])\n",
    "    if \"textExtra\" in video:\n",
    "        for hashtag in video[\"textExtra\"]:\n",
    "            if hashtag[\"hashtagName\"] not in hashtag_occurences:\n",
    "                hashtag_occurences[hashtag[\"hashtagName\"]] = 1\n",
    "            else:\n",
    "                hashtag_occurences[hashtag[\"hashtagName\"]] += 1\n",
    "    else:\n",
    "        videos_wo_hashtags += 1\n",
    "                \n",
    "hashtags_sorted = dict(sorted(hashtag_occurences.items(), key=lambda item: item[1], reverse=True))\n",
    "print(\"There are\", videos_wo_hashtags, \"videos without hashtags (\", videos_wo_hashtags*100/len(database.keys()), \"%)\")\n",
    "print(\"The ten most common hashtags:\")\n",
    "print(list(hashtags_sorted)[:20])\n",
    "\n"
   ]
  },
  {
   "cell_type": "code",
   "execution_count": 10,
   "metadata": {},
   "outputs": [],
   "source": [
    "hashtag_nodes = {}\n",
    "hashtag_edges = []\n",
    "for vid in database:\n",
    "    listofhashtags = []\n",
    "    if \"textExtra\" in database[vid]:\n",
    "        for hashtag in database[vid][\"textExtra\"]:\n",
    "            listofhashtags.append(hashtag[\"hashtagName\"])\n",
    "            if hashtag[\"hashtagName\"] not in hashtag_nodes:\n",
    "                hashtag_nodes[hashtag[\"hashtagName\"]]=len(hashtag_nodes.keys())+1\n",
    "        for combination in combinations(listofhashtags, 2):\n",
    "            hashtag_edges.append([hashtag_nodes[combination[0]], hashtag_nodes[combination[1]]])\n",
    "\n",
    "            "
   ]
  },
  {
   "cell_type": "code",
   "execution_count": 11,
   "metadata": {},
   "outputs": [],
   "source": [
    "import pyvis\n",
    "pyvis.options.Layout(improvedLayout=False)\n",
    "net = pyvis.network.Network(notebook=False, cdn_resources=\"local\")\n",
    "net.force_atlas_2based()\n",
    "node_count = 1\n",
    "for hashtag in hashtag_nodes:\n",
    "    net.add_node(node_count, label=hashtag)\n",
    "    node_count+=1\n",
    "net.add_edges(hashtag_edges)\n",
    "net.show('all_hashtags.html')"
   ]
  },
  {
   "cell_type": "code",
   "execution_count": 13,
   "metadata": {},
   "outputs": [],
   "source": [
    "exclude_hashtags = list(hashtags_sorted)[:20]\n",
    "hashtag_nodes = {}\n",
    "hashtag_edges = []\n",
    "for video in database.values():\n",
    "    listofhashtags = []\n",
    "    if \"textExtra\" in video:\n",
    "        for hashtag in video[\"textExtra\"]:\n",
    "            if hashtag[\"hashtagName\"] not in exclude_hashtags:\n",
    "                listofhashtags.append(hashtag[\"hashtagName\"])\n",
    "                if hashtag[\"hashtagName\"] not in hashtag_nodes:\n",
    "                    hashtag_nodes[hashtag[\"hashtagName\"]]=len(hashtag_nodes.keys())+1\n",
    "        for combination in combinations(listofhashtags, 2):\n",
    "            hashtag_edges.append([hashtag_nodes[combination[0]], hashtag_nodes[combination[1]]])"
   ]
  },
  {
   "cell_type": "code",
   "execution_count": 14,
   "metadata": {},
   "outputs": [],
   "source": [
    "\n",
    "net = pyvis.network.Network(notebook=False, cdn_resources=\"local\")\n",
    "\n",
    "                \n",
    "node_count = 1\n",
    "for hashtag in hashtag_nodes:\n",
    "    net.add_node(node_count, label=hashtag)\n",
    "    node_count+=1\n",
    "net.add_edges(hashtag_edges)\n",
    "net.show_buttons(filter_=\"physics\")\n",
    "net.show('selected_hashtags.html')\n"
   ]
  },
  {
   "cell_type": "code",
   "execution_count": null,
   "metadata": {},
   "outputs": [],
   "source": []
  }
 ],
 "metadata": {
  "kernelspec": {
   "display_name": "Python 3 (ipykernel)",
   "language": "python",
   "name": "python3"
  },
  "language_info": {
   "codemirror_mode": {
    "name": "ipython",
    "version": 3
   },
   "file_extension": ".py",
   "mimetype": "text/x-python",
   "name": "python",
   "nbconvert_exporter": "python",
   "pygments_lexer": "ipython3",
   "version": "3.11.3"
  }
 },
 "nbformat": 4,
 "nbformat_minor": 4
}
