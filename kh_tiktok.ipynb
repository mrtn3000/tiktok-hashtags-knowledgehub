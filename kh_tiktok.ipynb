{
 "cells": [
  {
   "attachments": {},
   "cell_type": "markdown",
   "metadata": {},
   "source": [
    "# Visualising a Hashtag-Network of TikTok"
   ]
  },
  {
   "cell_type": "code",
   "execution_count": 18,
   "metadata": {},
   "outputs": [
    {
     "name": "stdout",
     "output_type": "stream",
     "text": [
      "474 videos in database\n"
     ]
    }
   ],
   "source": [
    "# Importing the data\n",
    "import json\n",
    "from itertools import combinations\n",
    "import numpy as np\n",
    "\n",
    "\n",
    "with open('scraper/tiktok-fyp-videos.json') as file:\n",
    "    database = json.load(file)\n",
    "print(len(database.keys()), \"videos in database\")"
   ]
  },
  {
   "attachments": {},
   "cell_type": "markdown",
   "metadata": {},
   "source": [
    "# Data Structure"
   ]
  },
  {
   "cell_type": "code",
   "execution_count": 19,
   "metadata": {},
   "outputs": [
    {
     "name": "stdout",
     "output_type": "stream",
     "text": [
      "{'BAInfo': '',\n",
      " 'adAuthorization': False,\n",
      " 'adLabelVersion': 0,\n",
      " 'author': 'ruya.ege58',\n",
      " 'authorId': '6637163004990275590',\n",
      " 'authorPrivate': False,\n",
      " 'authorSecId': 'MS4wLjABAAAAWDgAbA86O6n-Q2pvvbDn_UK1Zr-cNECo43FSb45uP1N1mDtphg9RRh_x7btbJaVp',\n",
      " 'authorStats': {'diggCount': 2554,\n",
      "                 'followerCount': 880800,\n",
      "                 'followingCount': 1157,\n",
      "                 'heart': 10900000,\n",
      "                 'heartCount': 10900000,\n",
      "                 'videoCount': 746},\n",
      " 'avatarThumb': 'https://p16-sign-va.tiktokcdn.com/tos-maliva-avt-0068/264e6fc83a0adb2be222490f43f1c79a~c5_100x100.jpeg?x-expires=1688626800&x-signature=NYY7GhaFo1d5qC%2B55UX5GckiTOs%3D',\n",
      " 'capcutAnchors': [],\n",
      " 'challenges': [{'coverLarger': '',\n",
      "                 'coverMedium': '',\n",
      "                 'coverThumb': '',\n",
      "                 'desc': '',\n",
      "                 'id': '1599100938960902',\n",
      "                 'isCommerce': False,\n",
      "                 'profileLarger': '',\n",
      "                 'profileMedium': '',\n",
      "                 'profileThumb': '',\n",
      "                 'stats': {'videoCount': 0, 'viewCount': 0},\n",
      "                 'title': 'arapçaşarkı'}],\n",
      " 'channelTags': [],\n",
      " 'collected': False,\n",
      " 'comments': [],\n",
      " 'contents': [{'desc': '🌸🌸🌸#arapçaşarkı habibii 😍',\n",
      "               'textExtra': [{'awemeId': '',\n",
      "                              'end': 18,\n",
      "                              'hashtagId': '1599100938960902',\n",
      "                              'hashtagName': 'arapçaşarkı',\n",
      "                              'isCommerce': False,\n",
      "                              'secUid': '',\n",
      "                              'start': 6,\n",
      "                              'subType': 0,\n",
      "                              'type': 1,\n",
      "                              'userId': '',\n",
      "                              'userUniqueId': ''}]}],\n",
      " 'createTime': '1688325392',\n",
      " 'desc': '🌸🌸🌸#arapçaşarkı habibii 😍',\n",
      " 'digged': False,\n",
      " 'diversificationId': 10080,\n",
      " 'diversificationLabels': ['Finger Dance & Basic Dance',\n",
      "                           'Singing & Dancing',\n",
      "                           'Talents'],\n",
      " 'downloadSetting': 3,\n",
      " 'duetDisplay': 0,\n",
      " 'duetEnabled': True,\n",
      " 'duetInfo': {'duetFromId': '0'},\n",
      " 'effectStickers': [],\n",
      " 'forFriend': False,\n",
      " 'id': '7251302323782208774',\n",
      " 'indexEnabled': True,\n",
      " 'isAd': False,\n",
      " 'itemCommentStatus': 0,\n",
      " 'itemMute': False,\n",
      " 'locationCreated': 'TR',\n",
      " 'logId': '20230704070621D35C8934BC8EF3798983',\n",
      " 'music': {'album': 'Mezdeke Türk, Vol. 2',\n",
      "           'authorName': 'Mezdeke Türk',\n",
      "           'coverLarge': 'https://p77-sg.tiktokcdn.com/aweme/720x720/tos-alisg-v-2774/56fad22128314bc0a5425211973dc880.jpeg',\n",
      "           'coverMedium': 'https://p77-sg.tiktokcdn.com/aweme/200x200/tos-alisg-v-2774/56fad22128314bc0a5425211973dc880.jpeg',\n",
      "           'coverThumb': 'https://p77-sg.tiktokcdn.com/aweme/100x100/tos-alisg-v-2774/56fad22128314bc0a5425211973dc880.jpeg',\n",
      "           'duration': 30,\n",
      "           'id': '6709402394536445954',\n",
      "           'original': False,\n",
      "           'playUrl': 'https://sf16-ies-music-sg.tiktokcdn.com/obj/tos-alisg-ve-2774/d72739a584084a2da460375474440eb1',\n",
      "           'scheduleSearchTime': 0,\n",
      "           'title': 'Ya Habibi'},\n",
      " 'nickname': 'Rüyaaaaaa',\n",
      " 'officalItem': False,\n",
      " 'originalItem': False,\n",
      " 'playlistId': '',\n",
      " 'privateItem': False,\n",
      " 'scheduleTime': 0,\n",
      " 'secret': False,\n",
      " 'shareEnabled': True,\n",
      " 'showNotPass': False,\n",
      " 'stats': {'collectCount': '416',\n",
      "           'commentCount': 96,\n",
      "           'diggCount': 9064,\n",
      "           'playCount': 105200,\n",
      "           'shareCount': 62},\n",
      " 'stickersOnItem': [],\n",
      " 'stitchDisplay': 0,\n",
      " 'stitchEnabled': True,\n",
      " 'takeDown': 0,\n",
      " 'textExtra': [{'awemeId': '',\n",
      "                'end': 18,\n",
      "                'hashtagId': '1599100938960902',\n",
      "                'hashtagName': 'arapçaşarkı',\n",
      "                'isCommerce': False,\n",
      "                'secUid': '',\n",
      "                'start': 6,\n",
      "                'subType': 0,\n",
      "                'type': 1,\n",
      "                'userId': '',\n",
      "                'userUniqueId': ''}],\n",
      " 'video': {'bitrate': 1377999,\n",
      "           'bitrateInfo': [{'Bitrate': 1377999,\n",
      "                            'CodecType': 'h264',\n",
      "                            'GearName': 'normal_540_0',\n",
      "                            'PlayAddr': {'DataSize': '1403665',\n",
      "                                         'FileCs': 'c:0-8108-a2b0',\n",
      "                                         'FileHash': '360c2ebba4f6e037f0b9a200034b1dfb',\n",
      "                                         'Uri': 'v09044g40000cigsq2rc77ua5nmgto40',\n",
      "                                         'UrlKey': 'v09044g40000cigsq2rc77ua5nmgto40_h264_540p_1377999',\n",
      "                                         'UrlList': ['https://v16-webapp-prime.tiktok.com/video/tos/useast2a/tos-useast2a-ve-0068c004/oIBUQDUQR00IkAzbhVIoqcRge4YnEBeLJWkB5O/?a=1988&ch=0&cr=0&dr=0&lr=unwatermarked&cd=0%7C0%7C0%7C0&cv=1&br=2690&bt=1345&cs=0&ds=6&ft=_RwJrBeUq8ZmozG43c_vjX3ELAhLrus&mime_type=video_mp4&qs=0&rc=N2Y2ZDM4ODU5aGg2PGlmaEBpM3JqcWQ6ZjV2bDMzNzczM0BeLTJhMTBeX18xMDJhXzVfYSMxcWoycjRvbmRgLS1kMTZzcw%3D%3D&btag=e00080000&expire=1688475991&l=20230704070621D35C8934BC8EF3798983&ply_type=2&policy=2&signature=47029d6e6084530fd9b9e3e52b409bbc&tk=tt_chain_token',\n",
      "                                                     'https://v19-webapp-prime.tiktok.com/video/tos/useast2a/tos-useast2a-ve-0068c004/oIBUQDUQR00IkAzbhVIoqcRge4YnEBeLJWkB5O/?a=1988&ch=0&cr=0&dr=0&lr=unwatermarked&cd=0%7C0%7C0%7C0&cv=1&br=2690&bt=1345&cs=0&ds=6&ft=_RwJrBeUq8ZmozG43c_vjX3ELAhLrus&mime_type=video_mp4&qs=0&rc=N2Y2ZDM4ODU5aGg2PGlmaEBpM3JqcWQ6ZjV2bDMzNzczM0BeLTJhMTBeX18xMDJhXzVfYSMxcWoycjRvbmRgLS1kMTZzcw%3D%3D&btag=e00080000&expire=1688475991&l=20230704070621D35C8934BC8EF3798983&ply_type=2&policy=2&signature=47029d6e6084530fd9b9e3e52b409bbc&tk=tt_chain_token']},\n",
      "                            'QualityType': 20},\n",
      "                           {'Bitrate': 790609,\n",
      "                            'CodecType': 'h264',\n",
      "                            'GearName': 'lower_540_0',\n",
      "                            'PlayAddr': {'DataSize': '805335',\n",
      "                                         'FileCs': 'c:0-8108-c623',\n",
      "                                         'FileHash': '6218713b4ca9c7c8274b3e5c1123fced',\n",
      "                                         'Uri': 'v09044g40000cigsq2rc77ua5nmgto40',\n",
      "                                         'UrlKey': 'v09044g40000cigsq2rc77ua5nmgto40_h264_540p_790609',\n",
      "                                         'UrlList': ['https://v16-webapp-prime.tiktok.com/video/tos/useast2a/tos-useast2a-pve-0068/oUokDBAedQ6UeRYQWMEow0IcAQzLnbyBJR3k9h/?a=1988&ch=0&cr=0&dr=0&lr=unwatermarked&cd=0%7C0%7C0%7C0&cv=1&br=1544&bt=772&cs=0&ds=6&ft=_RwJrBeUq8ZmozG43c_vjX3ELAhLrus&mime_type=video_mp4&qs=4&rc=ODVpPDw3aGU0NTtkN2g5NUBpM3JqcWQ6ZjV2bDMzNzczM0A0NTA2NS0uNTMxX2BjNjU2YSMxcWoycjRvbmRgLS1kMTZzcw%3D%3D&btag=e00080000&expire=1688475991&l=20230704070621D35C8934BC8EF3798983&ply_type=2&policy=2&signature=6e98b4f6d53a52adb31cdfa5d1f4358b&tk=tt_chain_token',\n",
      "                                                     'https://v19-webapp-prime.tiktok.com/video/tos/useast2a/tos-useast2a-pve-0068/oUokDBAedQ6UeRYQWMEow0IcAQzLnbyBJR3k9h/?a=1988&ch=0&cr=0&dr=0&lr=unwatermarked&cd=0%7C0%7C0%7C0&cv=1&br=1544&bt=772&cs=0&ds=6&ft=_RwJrBeUq8ZmozG43c_vjX3ELAhLrus&mime_type=video_mp4&qs=4&rc=ODVpPDw3aGU0NTtkN2g5NUBpM3JqcWQ6ZjV2bDMzNzczM0A0NTA2NS0uNTMxX2BjNjU2YSMxcWoycjRvbmRgLS1kMTZzcw%3D%3D&btag=e00080000&expire=1688475991&l=20230704070621D35C8934BC8EF3798983&ply_type=2&policy=2&signature=6e98b4f6d53a52adb31cdfa5d1f4358b&tk=tt_chain_token']},\n",
      "                            'QualityType': 24},\n",
      "                           {'Bitrate': 581116,\n",
      "                            'CodecType': 'h264',\n",
      "                            'GearName': 'lowest_540_0',\n",
      "                            'PlayAddr': {'DataSize': '591940',\n",
      "                                         'FileCs': 'c:0-8108-fd99',\n",
      "                                         'FileHash': 'c881290b29d7ab0b953242ad2c4978b2',\n",
      "                                         'Uri': 'v09044g40000cigsq2rc77ua5nmgto40',\n",
      "                                         'UrlKey': 'v09044g40000cigsq2rc77ua5nmgto40_h264_540p_581116',\n",
      "                                         'UrlList': ['https://v16-webapp-prime.tiktok.com/video/tos/useast2a/tos-useast2a-ve-0068c001/okDCEJ9bcR4I0CERLzokWJe0IELneSQBAOURhB/?a=1988&ch=0&cr=0&dr=0&lr=unwatermarked&cd=0%7C0%7C0%7C0&cv=1&br=1134&bt=567&cs=0&ds=6&ft=_RwJrBeUq8ZmozG43c_vjX3ELAhLrus&mime_type=video_mp4&qs=5&rc=ODRpOjc0M2g0aDhpaTs4aUBpM3JqcWQ6ZjV2bDMzNzczM0AtX2MvYC8xXzMxYi8vLmMuYSMxcWoycjRvbmRgLS1kMTZzcw%3D%3D&btag=e00080000&expire=1688475991&l=20230704070621D35C8934BC8EF3798983&ply_type=2&policy=2&signature=c0ff9f260959439b2131d6d4d1dc6dd9&tk=tt_chain_token',\n",
      "                                                     'https://v19-webapp-prime.tiktok.com/video/tos/useast2a/tos-useast2a-ve-0068c001/okDCEJ9bcR4I0CERLzokWJe0IELneSQBAOURhB/?a=1988&ch=0&cr=0&dr=0&lr=unwatermarked&cd=0%7C0%7C0%7C0&cv=1&br=1134&bt=567&cs=0&ds=6&ft=_RwJrBeUq8ZmozG43c_vjX3ELAhLrus&mime_type=video_mp4&qs=5&rc=ODRpOjc0M2g0aDhpaTs4aUBpM3JqcWQ6ZjV2bDMzNzczM0AtX2MvYC8xXzMxYi8vLmMuYSMxcWoycjRvbmRgLS1kMTZzcw%3D%3D&btag=e00080000&expire=1688475991&l=20230704070621D35C8934BC8EF3798983&ply_type=2&policy=2&signature=c0ff9f260959439b2131d6d4d1dc6dd9&tk=tt_chain_token']},\n",
      "                            'QualityType': 25}],\n",
      "           'codecType': 'h264',\n",
      "           'cover': 'https://p16-sign-va.tiktokcdn.com/obj/tos-maliva-p-0068/oYQEIbchOQ9RnqiIA0UDALBJzBoeEUXek40Wai?x-expires=1688475600&x-signature=EJDi5dd6EU5LuNwg7z2opZboH44%3D',\n",
      "           'definition': '540p',\n",
      "           'downloadAddr': 'https://v16-webapp-prime.tiktok.com/video/tos/useast2a/tos-useast2a-pve-0068/o8DRoIIDUtT9tendBQbQeWAJg0QwiCoLBcokmE/?a=1988&ch=0&cr=0&dr=0&lr=tiktok_m&cd=0%7C0%7C1%7C0&cv=1&br=2728&bt=1364&cs=0&ds=3&ft=_RwJrBeUq8ZmozG43c_vjX3ELAhLrus&mime_type=video_mp4&qs=0&rc=OmU7N2Y5OWRpOmhoODo2aUBpM3JqcWQ6ZjV2bDMzNzczM0A2MF80NDA1XzMxNl8yY2BeYSMxcWoycjRvbmRgLS1kMTZzcw%3D%3D&btag=e00080000&expire=1688475991&l=20230704070621D35C8934BC8EF3798983&ply_type=2&policy=2&signature=77c72b7afcf91afb3ecd0db802d9d600&tk=tt_chain_token',\n",
      "           'duration': 8,\n",
      "           'dynamicCover': 'https://p16-sign-va.tiktokcdn.com/obj/tos-maliva-p-0068/877ebae0a24f415c90a963a9ca5ea54d_1688325394?x-expires=1688475600&x-signature=s%2BH2Wyt97fH4VB2Hrol%2Bud8%2BBls%3D',\n",
      "           'encodeUserTag': '',\n",
      "           'encodedType': 'normal',\n",
      "           'format': 'mp4',\n",
      "           'height': 1024,\n",
      "           'id': '7251302323782208774',\n",
      "           'originCover': 'https://p16-sign-va.tiktokcdn.com/obj/tos-maliva-p-0068/f640bc2178e044f480300b0472cfa63d_1688325393?x-expires=1688475600&x-signature=Qw7gO%2BhyQgzr6nxbjXA3ju3iUBg%3D',\n",
      "           'playAddr': 'https://v16-webapp-prime.tiktok.com/video/tos/useast2a/tos-useast2a-ve-0068c004/oIBUQDUQR00IkAzbhVIoqcRge4YnEBeLJWkB5O/?a=1988&ch=0&cr=0&dr=0&lr=unwatermarked&cd=0%7C0%7C0%7C0&cv=1&br=2690&bt=1345&cs=0&ds=6&ft=_RwJrBeUq8ZmozG43c_vjX3ELAhLrus&mime_type=video_mp4&qs=0&rc=N2Y2ZDM4ODU5aGg2PGlmaEBpM3JqcWQ6ZjV2bDMzNzczM0BeLTJhMTBeX18xMDJhXzVfYSMxcWoycjRvbmRgLS1kMTZzcw%3D%3D&btag=e00080000&expire=1688475991&l=20230704070621D35C8934BC8EF3798983&ply_type=2&policy=2&signature=47029d6e6084530fd9b9e3e52b409bbc&tk=tt_chain_token',\n",
      "           'ratio': '540p',\n",
      "           'reflowCover': 'https://p16-sign-va.tiktokcdn.com/tos-maliva-p-0068/oYQEIbchOQ9RnqiIA0UDALBJzBoeEUXek40Wai~tplv-photomode-video-cover:480:480.jpeg?x-expires=1688475600&x-signature=LHMzBhGHLUHKpYX%2FClc9muVJrUc%3D',\n",
      "           'shareCover': ['',\n",
      "                          'https://p16-sign-va.tiktokcdn.com/tos-maliva-p-0068/f640bc2178e044f480300b0472cfa63d_1688325393~tplv-photomode-tiktok-play.jpeg?x-expires=1689058800&x-signature=O4IoV2t7jYWsBgKkNsdZplboLVk%3D',\n",
      "                          'https://p16-sign-va.tiktokcdn.com/tos-maliva-p-0068/f640bc2178e044f480300b0472cfa63d_1688325393~tplv-tiktokx-share-play.jpeg?x-expires=1689058800&x-signature=4uQX3BFvgScWofeeao0uNsCwVHs%3D'],\n",
      "           'size': '1403665',\n",
      "           'subtitleInfos': [],\n",
      "           'videoQuality': 'normal',\n",
      "           'volumeInfo': {'Loudness': -12, 'Peak': 1},\n",
      "           'width': 576,\n",
      "           'zoomCover': {'240': 'https://p16-sign-va.tiktokcdn.com/tos-maliva-p-0068/oYQEIbchOQ9RnqiIA0UDALBJzBoeEUXek40Wai~tplv-f5insbecw7-1:240:240.jpeg?x-expires=1688475600&x-signature=4Bx%2BS3tdBK3i4N8JRZvY76xe2yg%3D',\n",
      "                         '480': 'https://p16-sign-va.tiktokcdn.com/tos-maliva-p-0068/oYQEIbchOQ9RnqiIA0UDALBJzBoeEUXek40Wai~tplv-f5insbecw7-1:480:480.jpeg?x-expires=1688475600&x-signature=AXymjlZiOw%2Fc8Vo%2FgdI0w%2FZYofk%3D',\n",
      "                         '720': 'https://p77-sign-va-lite.tiktokcdn.com/tos-maliva-p-0068/oYQEIbchOQ9RnqiIA0UDALBJzBoeEUXek40Wai~tplv-f5insbecw7-1:720:720.jpeg?x-expires=1688475600&x-signature=btw2B%2BH5WBoiV9iyvHko%2FIl%2Bzn4%3D',\n",
      "                         '960': 'https://p16-sign-va.tiktokcdn.com/tos-maliva-p-0068/oYQEIbchOQ9RnqiIA0UDALBJzBoeEUXek40Wai~tplv-f5insbecw7-1:960:960.jpeg?x-expires=1688475600&x-signature=F%2B8n3adE93b9gd1A%2FA%2F7gbyYtxA%3D'}},\n",
      " 'vl1': False,\n",
      " 'warnInfo': []}\n"
     ]
    }
   ],
   "source": [
    "import pprint\n",
    "pprint.pprint(next(iter(database.values())))"
   ]
  },
  {
   "attachments": {},
   "cell_type": "markdown",
   "metadata": {},
   "source": [
    "# View statistics"
   ]
  },
  {
   "cell_type": "code",
   "execution_count": 20,
   "metadata": {},
   "outputs": [
    {
     "name": "stdout",
     "output_type": "stream",
     "text": [
      "Average views: 20519932.70042194\n",
      "Median views: 6700000.0\n"
     ]
    }
   ],
   "source": [
    "video_views = []\n",
    "\n",
    "for video in database.values():\n",
    "    video_views.append(video[\"stats\"][\"playCount\"])\n",
    "\n",
    "# Calculate basic statistics\n",
    "average = np.mean(video_views)\n",
    "median = np.median(video_views)\n",
    "print(\"Average views:\", average)\n",
    "print(\"Median views:\", median)"
   ]
  },
  {
   "cell_type": "code",
   "execution_count": 21,
   "metadata": {},
   "outputs": [
    {
     "data": {
      "image/png": "[encoded data removed]",
      "text/plain": [
       "<Figure size 640x480 with 1 Axes>"
      ]
     },
     "metadata": {},
     "output_type": "display_data"
    }
   ],
   "source": [
    "import matplotlib.pyplot as plt\n",
    "import matplotlib.ticker as ticker\n",
    "plt.hist(video_views, bins=1000)\n",
    "\n",
    "# Adding labels and title\n",
    "plt.xlabel('Value')\n",
    "plt.ylabel('Frequency')\n",
    "plt.title('Histogram of Video Views')\n",
    "#plt.xlim(left= 0, right=10000000)\n",
    "\n",
    "ax = plt.gca()\n",
    "ax.xaxis.set_major_formatter(ticker.FormatStrFormatter('%1.0f'))\n",
    "\n",
    "# Display the histogram\n",
    "plt.show()"
   ]
  },
  {
   "cell_type": "code",
   "execution_count": 22,
   "metadata": {},
   "outputs": [
    {
     "data": {
      "image/png": "[encoded data removed]",
      "text/plain": [
       "<Figure size 640x480 with 1 Axes>"
      ]
     },
     "metadata": {},
     "output_type": "display_data"
    }
   ],
   "source": [
    "plt.hist(video_views, bins=1000)\n",
    "plt.xlabel('Value')\n",
    "plt.ylabel('Frequency')\n",
    "plt.title('Histogram of Video Views')\n",
    "# Limit the histogram to ignore outliers\n",
    "plt.xlim(left= 0, right=10000000)\n",
    "ax = plt.gca()\n",
    "ax.xaxis.set_major_formatter(ticker.FormatStrFormatter('%1.0f'))\n",
    "plt.show()"
   ]
  },
  {
   "attachments": {},
   "cell_type": "markdown",
   "metadata": {},
   "source": [
    "# Hashtags"
   ]
  },
  {
   "cell_type": "code",
   "execution_count": 23,
   "metadata": {},
   "outputs": [
    {
     "name": "stdout",
     "output_type": "stream",
     "text": [
      "There are 81 videos without hashtags ( 17.088607594936708 %)\n",
      "The ten most common hashtags:\n",
      "['fyp', '', 'viral', 'foryou', 'foryoupage', 'fy', 'fypシ', 'funny', 'funnyvideos', 'tiktok', 'fürdich', 'dog', 'trending', 'prank', 'football', 'asmr', 'fail', 'trend', 'pet', 'viralvideo']\n"
     ]
    }
   ],
   "source": [
    "videos_wo_hashtags = 0\n",
    "hashtag_occurences = {}\n",
    "\n",
    "for video in database.values():\n",
    "    video_views.append(video[\"stats\"][\"playCount\"])\n",
    "    if \"textExtra\" in video:\n",
    "        for hashtag in video[\"textExtra\"]:\n",
    "            if hashtag[\"hashtagName\"] not in hashtag_occurences:\n",
    "                hashtag_occurences[hashtag[\"hashtagName\"]] = 1\n",
    "            else:\n",
    "                hashtag_occurences[hashtag[\"hashtagName\"]] += 1\n",
    "    else:\n",
    "        videos_wo_hashtags += 1\n",
    "                \n",
    "hashtags_sorted = dict(sorted(hashtag_occurences.items(), key=lambda item: item[1], reverse=True))\n",
    "print(\"There are\", videos_wo_hashtags, \"videos without hashtags (\", videos_wo_hashtags*100/len(database.keys()), \"%)\")\n",
    "print(\"The ten most common hashtags:\")\n",
    "print(list(hashtags_sorted)[:20])\n",
    "\n"
   ]
  },
  {
   "cell_type": "code",
   "execution_count": 24,
   "metadata": {},
   "outputs": [],
   "source": [
    "hashtag_nodes = {}\n",
    "hashtag_edges = []\n",
    "for vid in database:\n",
    "    listofhashtags = []\n",
    "    if \"textExtra\" in database[vid]:\n",
    "        for hashtag in database[vid][\"textExtra\"]:\n",
    "            listofhashtags.append(hashtag[\"hashtagName\"])\n",
    "            if hashtag[\"hashtagName\"] not in hashtag_nodes:\n",
    "                hashtag_nodes[hashtag[\"hashtagName\"]]=len(hashtag_nodes.keys())+1\n",
    "        for combination in combinations(listofhashtags, 2):\n",
    "            hashtag_edges.append([hashtag_nodes[combination[0]], hashtag_nodes[combination[1]]])\n",
    "\n",
    "            "
   ]
  },
  {
   "cell_type": "code",
   "execution_count": 26,
   "metadata": {},
   "outputs": [],
   "source": [
    "import pyvis\n",
    "pyvis.options.Layout(improvedLayout=False)\n",
    "net = pyvis.network.Network(notebook=False, cdn_resources=\"local\")\n",
    "net.force_atlas_2based()\n",
    "node_count = 1\n",
    "for hashtag in hashtag_nodes:\n",
    "    net.add_node(node_count, label=hashtag)\n",
    "    node_count+=1\n",
    "net.add_edges(hashtag_edges)\n",
    "net.show('all_hashtags.html')"
   ]
  },
  {
   "cell_type": "code",
   "execution_count": 35,
   "metadata": {},
   "outputs": [
    {
     "name": "stdout",
     "output_type": "stream",
     "text": [
      "{'arapçaşarkı': 1, 'cake': 2, 'cakes': 3, 'bake': 4, 'baking': 5, 'food': 6, 'foodporn': 7, 'actor': 8, 'besniktafallari': 9, 'international': 10, 'kosova': 11, 'albania': 12, 'jasonstathammovie': 13, 'jasonstatham': 14, 'gta6': 15, 'ابن_زومبي': 16, 'abnzombie': 17, 'abn_zombie': 18, 'fürdichhhh': 19, 'fdss': 20, 'viraltt': 21, 'lustigevideos': 22, 'funnyvideos': 23, 'funnymoments': 24, 'deutschememes': 25, 'whatthehell': 26, 'memesextremlustig': 27, 'funnytiktokvideos': 28, 'funnyvideo': 29, 'dog': 30, 'dogsoftiktok': 31, 'duel': 32, 'fit': 33, 'dubai': 34, 'fitness': 35, 'abudhabi': 36, 'koweit': 37, 'plaquiste': 38, 'drywaller': 39, 'drywallers': 40, 'plaquistes': 41, 'haul': 42, 'fypage': 43, 'vlog': 44, 'tutorial': 45, 'nike': 46, 'louisajindaoui': 47, 'jindaouis': 48, 'shakira': 49, 'movie': 50, 'russenindeutschland': 51, 'russisch': 52, 'russendeutsche': 53, 'deutschrussen': 54, 'russischdeutsch': 55, 'deutschrussisch': 56, 'russian': 57, 'russaki': 58, 'goviral': 59, 'trend': 60, 'foryourpage': 61, 'original': 62, 'russland': 63, '🇷🇺': 64, '🇷🇺🇷🇺': 65, '❤️': 66, 'russianmemes': 67, 'russaki_w_germanii': 68, 'memes': 69, 'russiantiktok': 70, 'viraltiktok': 71, 'hochzeit': 72, 'russischehochzeit': 73, 'explore': 74, 'рекомендации': 75, 'безрук': 76, 'moments': 77, 'football': 78, 'respect': 79, 'gift': 80, 'diy': 81, 'duett': 82, 'starwars': 83, 'ambestinword': 84, 'tiktoktchadien🇹🇩🇹🇩🇹🇩🇵🇸🇵🇸': 85, 'offdine': 86, 'offdine🤪😂': 87, 'mancity': 88, 'premierleague': 89, 'haaland': 90, 'erlinghaaland': 91, 'dogs': 92, 'pet': 93, 'funny': 94, '犬': 95, 'アヒル': 96, '可愛い犬': 97, 'ペット': 98, '面白いペット': 99, '田園風景': 100, '癒し': 101, '上热门': 102, 'ariel': 103, 'littlemermaid': 104, 'sirenita': 105, 'disney': 106, 'cheyennetattooequipment': 107, 'h2oceanproteam': 108, 'intenzeink': 109, 'stencilstuff': 110, 'unigloves': 111, 'barberdts': 112, 'squidsterskinmarker': 113, 'wemakeartistsde': 114, 'juliansiebert': 115, 'corpsepaintertattoo': 116, 'smeh': 117, 'smehdosuza': 118, 'balkan': 119, 'balkantiktok': 120, 'semiropasnadiagnoza': 121, 'jeremyfragrance': 122, 'whitepants': 123, 'selbstbewusst': 124, 'motiviert': 125, 'confident': 126, 'munich': 127, 'probierenmitkarina': 128, 'maskiergang': 129, 'learnwithkarina': 130, 'mercedesmaybach': 131, 's680': 132, 'maybach': 133, 'recipe': 134, 'steak': 135, 'sandwich': 136, 'tiktokcooks': 137, 'anatoly': 138, 'gym': 139, 'prank': 140, 'fart': 141, 'kid': 142, 'meme': 143, 'motivation': 144, 'mindset': 145, 'mentality': 146, 'discipline': 147, 'inspiration': 148, 'dedication': 149, 'success': 150, 'unitedontiktok': 151, 'mufc': 152, 'manutd': 153, 'brunofernandes': 154, 'fernandes': 155, 'marcusrashford': 156, 'rashford': 157, 'nanterreville': 158, 'france': 159, 'nahel': 160, 'lesalgeriensenfrance': 161, 'pourtoi': 162, 'dz': 163, 'جزاائري_جزائرية___جزائريون___ونفتخر': 164, 'ديزاد': 165, 'manifestation': 166, 'جزائري': 167, 'جزائرية': 168, 'nanterremarche': 169, 'marcheblanche': 170, 'مصر_': 171, 'egypte': 172, 'india_': 173, 'china_': 174, 'russe': 175, 'iamrussian': 176, 'poutineday': 177, 'europ': 178, 'emanuelmacron': 179, 'deutchland': 180, 'سعودية_مغرب_ليبيا_كويت_العراق_سعودية': 181, 'سوريا_الأردن_لبنان': 182, 'roumaniagirls💕🇹🇩': 183, 'romaniengirl🇹🇩': 184, 'russiengirl': 185, 'roumaniengirl': 186, 'russienews': 187, 'belgiqu': 188, 'capcut': 189, 'فلسطين': 190, 'غزة🇵🇸': 191, 'polandgirl': 192, 'ukraingirls': 193, 'europ_sl_tiktok': 194, 'canada_': 195, 'america_': 196, 'bresiliennes': 197, 'brasil_': 198, 'asmrsounds': 199, 'asmrtiktoks': 200, 'asmr': 201, 'travel': 202, 'lifehacks': 203, 'amazonfinds': 204, 'travelfinds': 205, 'motheranddaughter': 206, 'gruselgeschichte': 207, 'horrorgeschichten': 208, 'fesselndegeschichten': 209, 'laceyfletcher': 210, 'fish': 211, 'fishinglife': 212, 'catchandrelease': 213, 'bassfishing': 214, 'nature': 215, 'outdoors': 216, 'carpfishing': 217, 'fishingislife': 218, 'angler': 219, 'pesca': 220, 'bass': 221, 'carp': 222, 'flyfishing': 223, 'fisherman': 224, 'fishingtrip': 225, 'fishingaddict': 226, 'trout': 227, 'bigfish': 228, 'hunting': 229, 'saltwaterfishing': 230, 'photography': 231, 'pike': 232, 'angling': 233, 'fishingdaily': 234, 'shimano': 235, 'fishon': 236, 'angeln': 237, 'sea': 238, 'fishinglifestyle': 239, 'troutfishing': 240, 'boat': 241, 'sportfishing': 242, 'pikefishing': 243, 'lake': 244, 'fishingtime': 245, 'perch': 246, 'kayakfishing': 247, 'tightlines': 248, 'carplife': 249, 'carpy': 250, 'adventure': 251, 'river': 252, 'fishingday': 253, 'fishinglures': 254, 'saltlife': 255, 'ocean': 256, 'pescaria': 257, 'smallmouthbass': 258, 'karpfen': 259, 'camping': 260, 'pescaesportiva': 261, 'instafish': 262, 'fishingfun': 263, 'instagood': 264, 'boating': 265, 'freshwaterfishing': 266, 'daiwa': 267, 'vurucutm007': 268, 'cat': 269, 'katze': 270, 'komisch': 271, 'thalassophobia': 272, 'aquaphobia': 273, 'creepy': 274, 'creepyvideos': 275, 'seal': 276, 'killerwhale': 277, 'creepyreel': 278, 'omg': 279, 'bremenentertainment': 280, 'bremen': 281, 'wrong': 282, 'answers': 283, 'only': 284, 'machine': 285, 'mechanical': 286, 'juventus': 287, 'dimaria': 288, 'skill': 289, 'police': 290, 'court': 291, 'escaperoom': 292, 'russia': 293, 'china': 294, 'dancechallenge': 295, 'hyperkidsafrica': 296, 'michaeljackson': 297, 'pearofafrica': 298, 'uganda': 299, 'hafamily': 300, 'fürdichseite': 301, 'familyvideo': 302, 'miratas': 303, 'dadlife': 304, 'dadof2': 305, 'boyorgirl': 306, 'genderreveal': 307, 'kobydutton': 308, 'npcabood': 309, 'urfavoriteabood': 310, 'россия🇷🇺': 311, 'россия': 312, 'putin': 313, 'president': 314, 'президент': 315, 'владимирпутин': 316, 'vladimirputin': 317, 'security': 318, 'bodyguard': 319, 'safety': 320, 'yzfamily': 321, 'erinnerung': 322, 'квесткиїв': 323, 'кудипітикиїв': 324, 'кудасходитькиев': 325, 'кудапойтикиев': 326, 'таємнастанція': 327, 'великийквест': 328, 'couplecomedy': 329, 'comdey': 330, 'cutebaby': 331, 'babylove': 332, 'fouryou': 333, 'fail': 334, 'scare': 335, 'fails': 336, 'scareprank': 337, 'jumpscare': 338, 'sneak': 339, '🤣🤣🤣': 340, 'speed': 341, 'ishowspeedlive': 342, 'ishowspeed': 343, 'streamer': 344, 'turkey': 345, 'turkishicecream': 346, 'roblox': 347, 'robloxedit': 348, 'robloxtrend': 349, 'robloxtiktok': 350, 'robux': 351, 'bobux': 352, 'plsdonate': 353, 'robloxmemes': 354, 'edit': 355, 'relatable': 356, 'bronxsistas': 357, 'lockigflockig': 358, 'عيد': 359, 'الجزائر': 360, 'الرياضة': 361, 'الصيف': 362, 'الإسلام': 363, 'amputee': 364, 'amputeelife': 365, 'fighter': 366, 'cartoon': 367, 'justforfun': 368, 'interesting': 369, 'animals': 370, 'incredible': 371, 'kdb': 372, 'manchestercity': 373, 'kevindebruyne': 374, 'lasvegas': 375, 'paris': 376, 'eifeltower': 377, 'siegfriedandjoy': 378, 'eldeno': 379, 'denozia': 380, 'woxylnnz': 381, 'ctto': 382, 'yoon': 383, 'stayc': 384, 'yoonstayc': 385, 'fancam': 386, 'myopinion': 387, 'anime': 388, 'aesthetic': 389, 'yourname': 390, 'wallpaper': 391, 'アニメ壁紙': 392, 'fishing': 393, 'frog': 394, 'day1': 395, 'kürek': 396, 'kürekledöner': 397, 'ağababadöner': 398, 'foodservice': 399, 'himmetpolatt': 400, 'yemektariflerii': 401, 'yesyesyesyesyes': 402, 'türkyemek': 403, 'dopdopdop': 404, 'skibidi': 405, 'yesyes': 406, 'yasincengiz': 407, '@YasinCengiz ': 408, '@Himmet polat ': 409, 'zuerstdersai': 410, '089': 411, 'sacrum': 412, 'tailbone': 413, 'treatement': 414, 'mtbro': 415, 'brisket': 416, 'lasagna': 417, 'cute': 418, 'weightlosscheck': 419, 'weightloss': 420, 'weightlifting': 421, 'animal': 422, 'biganimals': 423, 'seaanimals': 424, 'monstersea': 425, 'misteri': 426, 'elgranmaja': 427, 'psgfcl': 428, 'goodjob👏': 429, 'savelife': 430, 'credittotheowner': 431, 'iggyazalea': 432, 'princessofrap': 433, 'dojacat': 434, 'charlixcx': 435, 'poprap': 436, 'rap': 437, 'pop': 438, 'femalerap': 439, 'nickiminaj': 440, 'icespice': 441, 'cardib': 442, 'katyperry': 443, 'rihanna': 444, 'beyonce': 445, 'kudus': 446, 'হাস্সকর': 447, 'ফানি': 448, 'dönerci': 449, 'yemekvideoları': 450, 'instantinkfeelings': 451, 'signatureideas': 452, 'm': 453, 'animation': 454, '3danimation': 455, 'animationmeme': 456, 'comedy': 457, 'funnycideos': 458, 'transition': 459, 'lethimcook': 460, 'couple': 461, 'couplegoals': 462, 'couplehumor': 463, 'aviation': 464, 's7': 465, 'shocking': 466, 'traniation': 467, 'rexlace': 468, 'cleaner': 469, 'anatolyprank': 470, 'psg': 471, 'parissaintgermain': 472, 'sportstiktok': 473, 'thucungvuinhon': 474, 'thucung': 475, 'thucung🔔': 476, 'kmnistdiegang': 477, 'bona': 478, 'mumanddaughter': 479, 'tiktokfamily': 480, 'girls': 481, 'dance': 482, 'fun': 483, 'ahoufe_': 484, 'trends': 485, 'tiktokvideos': 486, 'championsleague': 487, 'satisfying': 488, 'asmrvideo': 489, 'serbiandancinglady': 490, 'tranding': 491, 'ghostorwhat': 492, 'support': 493, '😂😂😂': 494, 'jokes': 495, 'hilarious': 496, 'pranks': 497, 'find': 498, 'bus': 499, 'buslife': 500, 'busconversion': 501, 'tinyhome': 502, 'tinyhomeonwheels': 503, 'conversion': 504, 'schoolbus': 505, 'mortgagefree': 506, 'nomads': 507, 'camperlife': 508, 'camperbus': 509, 'seatsout': 510, 'demo': 511, 'sugoimart': 512, 'bubblefoam': 513, 'foamwash': 514, 'kefiibubble': 515, 'asmrskincareeddition': 516, 'asmrskincareroutine': 517, 'asmrespuma': 518, 'foamasmr': 519, 'asmrfacial': 520, 'hojayefutsal': 521, '2023': 522, 'newpepsihitmelike': 523, 'mama': 524, 'schlafen': 525, 'sleep': 526, 'daughter': 527, 'prankkasihuang': 528, 'ngakak': 529, 'videolucu': 530, 'prankindonesia': 531, 'reels': 532, 'beranda': 533, 'prankgokil': 534, 'prankpalinglucu': 535, 'woodworking': 536, 'maker': 537, 'woodwork': 538, 'tools': 539, 'bois': 540, 'madera': 541, 'holz': 542, 'woodworker': 543, 'joinery': 544, 'kresz': 545, 'keresztezodes': 546, 'körforgalom': 547, 'vezetnitanulok': 548, 'vizsga': 549, 'elmeletivizsga': 550, 'autovezetes': 551, 'autosiskola': 552, 'mrkresz': 553, 'kreszteszt': 554, 'kreszapp': 555, 'vezetes': 556, 'jogsi': 557, 'auto': 558, 'jogosítvány': 559, 'kreszvizsga': 560, 'kresztanulás': 561, 'xuhuongtiktok': 562, 'xuhuong': 563, 'nhachaymoingay': 564, 'fpy': 565, 'samoyed': 566, 'puppy': 567, '433': 568, 'futbol': 569, 'michaeljacksonfan': 570, 'mjfan': 571, 'moonwalker': 572, 'mj': 573, 'kingofpop': 574, 'believe': 575, 'michaeljacksonisalive': 576, 'whobelievesmichaeljacksonisalive': 577, 'kingofpopmusic': 578, 'mjjforever': 579, 'mjjfan': 580, 'michaeljacksonforever': 581, 'michaeljacksonlover': 582, 'michaeljacksonfans': 583, 'michaeljacksonedits': 584, 'disguise': 585, 'mask': 586, 'jackcrooner': 587, 'princejackson': 588, 'mjstillalive': 589, 'mjalive': 590, 'michaeljacksonedit': 591, 'michaeljacksonchallenge': 592, 'fyyyy': 593, 'φαιδων': 594, 'faidon': 595, 'mpesfypgamw': 596, 'laugh': 597, 'drakoymel21': 598, 'proliga': 599, 'voleyball': 600, 'nishidayuji': 601, 'usefulfacts': 602, 'jamesknows': 603, 'monkeyattack': 604, 'closeupauge': 605, 'manlikeisaac': 606, 'beniöneçıkart': 607, 'izm': 608, 'keşfet': 609, 'keşfetteyizzz': 610, 'summervibes': 611, 'summersalad': 612, 'easyrecipes': 613, 'protein': 614, 'naruto': 615, 'lajusticepournael': 616, 'nanterre': 617, '95': 618, '94': 619, '72': 620, '93': 621, 'saintdenis': 622, 'ladefenseparis': 623, 'قيادتنا_رمز_عزتنا_كرامتنا': 624, 'الجزائر_العضمى': 625, 'penseatoi': 626, 'الجالية_المغربية_في_كل_مكان🇲🇦🇲🇦': 627, 'الجالية_الجزائرية': 628, 'القفطان_المغربي': 629, 'الشعب_الصيني_ماله_حل😂😂': 630, 'رئيس_الجمهورية_عبد_المجيد_تبون❤🇩🇿': 631, 'العراق🇮🇶': 632, 'زعيم_الشرق_الاوسط': 633, 'عاصمة_القرارات_الرياض🇸🇦🇸🇦': 634, 'workshop': 635, 'crafting': 636, 'selfimprovement': 637, 'craft': 638, 'lifehack': 639, 'pogba': 640, 'usmanstudioofficail': 641, 'islamic_video': 642, 'imrankhan': 643, 'pti': 644, 'griddle': 645, 'griddy': 646, 'gru': 647, 'mercedesbenzbrabus': 648, 'brabusg800': 649, 'g800': 650, 'crash': 651, 'carcrash': 652, 'supercar': 653, 'gwagonbrabus': 654, 'supercarcrash': 655, 'brabus': 656, 'amg': 657, 'chiropractic': 658, 'reaction': 659, 'janeksehrenomi': 660, 'unterhaltungsvideo': 661, 'oma': 662, '💎chjllball_team⚽️🇻🇳': 663, 'afc_team🔥': 664, 'stade': 665, 'ich': 666, 'liebe': 667, 'dich': 668, 'fypシ゚viral': 669, 'timelapse': 670, 'reverse': 671, 'funnytiktok': 672, 'laughs': 673, 'makeyoulaugh': 674, 'randomfunnyvideos': 675, 'memestiktok': 676, 'justforlaughs': 677, 'happy': 678, 'funnycontent': 679, '1000k': 680, 'j': 681, 'titan': 682, 'tigersharks': 683, 'predators': 684, 'tigershark': 685, 'sharks': 686, 'shark': 687, 'sharkdiving': 688, 'sharkdiver': 689, 'sharkattack': 690, 'tigersharkdiving': 691, 'sharky': 692, 'scubadan': 693, 'transformersvoices': 694, 'invisibledangerprank': 695, 'business': 696, 'girlfriend': 697, 'preppy': 698, 'maldives': 699, 'marinelife': 700, 'savetheworld': 701, 'blowup': 702, 'titanic': 703, 'submarine': 704, 'waterslide': 705, 'hawaii': 706, 'dream': 707, 'paradise': 708, 'film': 709, 'filmzitate': 710, 'filmclips': 711, 'deutsch': 712, '911': 713, 'gutdiesezitate': 714, 'هزاره_پشتو_ازبک_افغان_هم_وطن': 715, 'fyyy': 716, 'haftbefehl': 717, 'opah': 718, 'moonfish': 719, 'seafood': 720, 'fillets': 721, 'work': 722, 'fishmonger': 723, 'الخال_ابوطلال': 724, 'فهد_العرادي': 725, 'بوطلال_المزيون😂': 726, 'اكسبلور': 727, 'يوميات_مشاهير': 728, 'الخال_بوطلال_الخطير': 729, 'exblor': 730, 'قطر': 731, 'الامارات': 732, 'الكويت': 733, 'البحرين': 734, 'عمان': 735, 'السعوديه': 736, 'qatar': 737, '2022': 738, 'q8': 739, 'feet': 740, 'unhaencravada': 741, 'unhainflamada': 742, 'podologia': 743, 'feetcare': 744, 'ingrowntoenail': 745, 'bestfriend': 746, 'riverdalecast': 747, 'interview': 748, 'kjapa': 749, 'markconsuelos': 750, 'serious': 751, 'newtrend': 752, 'свободныйчеловек': 753, 'вагнер': 754, 'украина': 755, 'almancaöğreniyoruz': 756, 'almancaöğreniyorum': 757, 'almancakursu': 758, 'almancakelime': 759, 'lehreren': 760, 'lernen': 761, 'gurbetçiler': 762, 'carexpert': 763, 'handball': 764, 'wurf': 765, 'dkb': 766, 'hair': 767, 'hairstyle': 768, 'hairtutorial': 769, 'hairstyles': 770, 'hairstylist': 771, 'hairidea': 772, 'hairideas': 773, 'hairbun': 774, 'hairbraid': 775, 'hairvideo': 776, 'hairvideos': 777, 'hairtrend': 778, 'hairtrends': 779, 'hairtrends2023': 780, 'adana': 781, 'sokaklezzetleri': 782, 'neyesekyaa': 783, 'tost': 784, 'ütütost': 785, 'adanadaneyenir': 786, 'catsoftiktok': 787, 'question': 788, '2000s': 789, 'tvshows': 790, 'firenze': 791, 'hamburg': 792, 'worldcup': 793, 'equipedefrance': 794, 'healthy': 795, 'wastingfood': 796, 'scary': 797, 'horror': 798, 'funnyanimals': 799, 'haha': 800, 'humor': 801, 'rizzco': 802, 'hannover': 803, 'mysterybox': 804, 'momlife': 805, 'organizedbedroom': 806, 'y2kaesthetic': 807, 'daughtersroom': 808, 'bedroomdecor': 809, 'cleantok': 810, 'deggendorf': 811, 'ziadeno': 812, 'staysafe': 813, 'hiddencamera': 814, 'hotel': 815, 'airbnb': 816, 'stalker': 817, 'spy': 818, 'norway': 819, 'beingnorwegian': 820, 'helgianderlend': 821, 'cats': 822, 'catstictok': 823, 'catlover': 824, 'catlife': 825, 'tictok': 826, 'catlovers': 827, 'kitten': 828, 'tictokcat': 829, 'kitty': 830, 'love': 831, 'meow': 832, 'welovecat': 833, 'catoftheday': 834, 'pets': 835, 'kittens': 836, 'fatty': 837, 'catlove': 838, 'world': 839, 'fatcats': 840, 'petsoftictok': 841, 'kittensoftictok': 842, 'fatcat': 843, 'uk': 844, 'england': 845, 'immigration': 846, 'biggest': 847, 'firework': 848, 'shell': 849, 'wow': 850, 'fireworks': 851, 'pyro': 852, '_an1taaa': 853, 'military': 854, 'specialforces': 855, 'soldier': 856, 'militaryedit': 857, 'leomessi': 858, 'kylianmbappé': 859, 'tiktokmoms': 860, 'momsoftiktok': 861, 'youngmom': 862, 'kittygod_cn': 863, 'lipstick': 864, 'gehviralman': 865, 'fürdichseiteviral': 866, 'bartın': 867, 'inkumu': 868, 'amasra': 869, 'gönnfy': 870, 'polizei': 871, 'nrw': 872, 'mj_talent': 873, 'mjtalent': 874, 'coupleprank': 875, 'fpyシ': 876, 'fyfyfy': 877, 'kochen': 878, 'essen': 879, 'macandcheese': 880, 'rezept': 881, 'foodtiktok': 882, 'badewanne': 883, 'mann': 884, 'heiraten': 885, 'baden': 886, 'titanic1912': 887, 'titanicwreck': 888, 'inside': 889, 'zoo': 890, 'revolution': 891, 'fry': 892, 'video': 893, 'тренировка': 894, 'пресс': 895, 'похудение': 896, 'squeeze': 897, 'squeezeyuk': 898, 'acne': 899, 'pimple': 900, 'pimplepop': 901, 'movieclips': 902, 'sneakers': 903, 'sneakerhead': 904, 'streetwear': 905, 'greece🇬🇷': 906, 'greeceviral': 907, 'fakesituation⚠️': 908, 'fakeguns⚠️': 909, 'girlswholift': 910, 'xcyzba': 911, 'tiktokfood': 912, 'ligue1ubereats': 913, 'ramos': 914, 'mbappe': 915, 'funnyvideos😂': 916, 'worldmeme': 917, 'shorts': 918, 'trendingtiktok': 919, 'lmfao': 920, 'funnyshorts': 921, 'finnel': 922, 'blackeyedpeas': 923, 'galway': 924, 'kayak': 925, 'android': 926, 'supermariobrosmovie': 927, 'tippsundtricks': 928, 'handy': 929, 'pastry': 930, 'pasticceria': 931, 'italia': 932, 'tiramisu': 933, 'cafe': 934, 'patisserie': 935, 'dessert': 936, 'dolci': 937, 'dongluctapluyen': 938, 'bodynongbong': 939, 'gaitapgym': 940, 'gaixinh': 941, 'quanaotapgym': 942, 'rizz': 943, 'rizzhighlights': 944, 'chinatravel': 945, 'visitchina': 946, 'ronaldo': 947, 'uclfinal': 948, 'periode': 949, 'simulator': 950, 'schwanger': 951, 'challenge': 952, 'nomobbingjustfun': 953, 'frauenlogik': 954, 'nba': 955, 'basketball': 956, 'nbaedit': 957, 'nbaplayoffs': 958, 'usatoday': 959, 'usa': 960, 'spooky': 961, 'ghost': 962, 'haunted': 963, 'paranormal': 964, 'paranormalactivity': 965, 'sleepwithhorror': 966, 'xyzbca': 967, 'makethisviral': 968, 'firstgrandchild': 969, 'grandmasoftiktok': 970, 'baby': 971, 'newmum': 972, 'apple_fan_club': 973, 'nbafunnymoments': 974, 'blowthisup': 975, 'dontletthisflop': 976, 'mom': 977, 'summer': 978, 'sommer': 979, 'omurice': 980, 'kichikichi': 981, 'uncleroger': 982, 'transformers': 983, '7': 984, 'breakupadvice': 985, 'alone': 986, 'stoic': 987, 'hurtmyfeelings': 988, 'peaceful': 989, 'doggo': 990, 'nova9sebethestar': 991, 'what': 992, 'tech': 993, 'technology': 994, 'apple': 995, 'iphone': 996, 'iphone15': 997, 'iphone15pro': 998, 'iphone15promax': 999, 'iphone15ultra': 1000, 'iphone15plus': 1001, 'iphone15flip': 1002, 'techtips': 1003, 'breakfast': 1004, 'burger': 1005, 'easyrecipe': 1006, 'asmrfood': 1007, 'eggs': 1008, 'breakfastideas': 1009, 'breakfastrecipes': 1010, 'bacon': 1011, 'homecook': 1012, 'homecooking': 1013, 'recipesoftiktok': 1014, 'morningroutine': 1015, 'lamb': 1016, 'eldenozia': 1017, 'kids': 1018, 'school': 1019, 'geschichte': 1020, 'agababadoner': 1021, 'bygöbekshow': 1022, 'göbekshow': 1023, 'skibidichallenge': 1024, 'bulgaria': 1025, 'skibiridopdop': 1026, 'dopdop': 1027, 'donerkebab': 1028, 'turkishkebap': 1029, 'ramadan': 1030, 'ramadhan': 1031, 'kuwait🇰🇼': 1032, 'türkiyemmmmm': 1033, 'türkiyem🇹🇷🇹🇷🇹🇷🇹🇷türkiye🐺🇹🇷🇹🇷': 1034, 'yesyesyes': 1035, 'yasin': 1036, 'dans': 1037, 'dansshow': 1038, 'bulgaristanturkiyemuzik🇧🇬🇹🇷': 1039, 'gürcistan': 1040, 'polonya': 1041, 'dubaiblogger': 1042, 'dubai🇦🇪': 1043, 'calvin': 1044, 'deutschlernen': 1045, 'deutschsprache': 1046, 'canecorso': 1047, 'canecorsoitaliano': 1048, 'canecorsolovers': 1049, 'جيران': 1050, 'slippers': 1051, 'sgtiktok': 1052, 'exploringtheocean': 1053, 'tsunami': 1054, 'earthquake': 1055, 'deepseacreatures': 1056, 'alnassr': 1057, 'النصر': 1058, 'pay': 1059, 'bill': 1060, 'dinner': 1061, 'relationship': 1062, 'relationshipgoals': 1063, 'relationshipmemes': 1064, 'marriage': 1065, 'husbandwife': 1066, 'marriagehumor': 1067, 'mollyandjordy': 1068, 'toy': 1069, 'rc': 1070, 'fup': 1071, 'rindomuito': 1072, 'humorbrasil': 1073, 'humornotiktok': 1074, 'vídeosengraçados': 1075, 'memesbrasileiros': 1076, 'rindoate2050': 1077, 'luxury': 1078, 'luxurylife': 1079, 'thankyou': 1080, 'blessed': 1081, 'millionnaire': 1082, 'billionaire': 1083, 'car': 1084, 'aventador': 1085, 'cannes': 1086, 'festivaldecannes': 1087, 'lamborghini': 1088, 'moviescene': 1089, 'movies': 1090, 'barman': 1091, 'shots': 1092, 'peerpressure': 1093, 'pov': 1094, 'awkward': 1095, 'uncomfortable': 1096, 'introvert': 1097, 'niallmacmillan': 1098, 'derma': 1099, 'drogerie': 1100, 'drogerieprodukte': 1101, 'drogeriehaul': 1102, 'ärztin': 1103, 'hautpflege': 1104, 'footballeur': 1105, 'surprise': 1106, 'fan': 1107, 'respectmoment': 1108, 'respectinfootball': 1109, 'moment': 1110, 'brother': 1111, 'armedforces': 1112, 'wo': 1113, 'sillybilly': 1114, 'vibrationsplatte': 1115, 'vibrationsboard': 1116, 'pubity': 1117, 'egyp': 1118, 'hystori': 1119, 'hystorytime': 1120, 'egyptianbeaman': 1121, 'egypt': 1122, 'cairo_egypt': 1123, 'egypttiktokers🇪🇬': 1124, 'ägypten🇪🇬': 1125, 'traveltiktok': 1126, 'king': 1127, 'pharaohs': 1128, 'egyptiantiktok': 1129, 'egyptianarabic': 1130, 'ageofcivilization2': 1131, 'civilization': 1132, 'egypt🇪🇬': 1133, 'egyptianking': 1134, 'egyptiancivilization': 1135, 'kinder': 1136, 'cheesecake': 1137, 'wassermelone': 1138, 'lecker': 1139, 'paint': 1140, 'boxing': 1141, 'gigaovgod': 1142, 'parati': 1143, 'escapade': 1144, 'ottawa': 1145, 'ontario': 1146, 'festival': 1147, 'partylife': 1148, 'rave': 1149, 'mysicfestival': 1150, 'canada': 1151, 'funnycat': 1152, 'bluepunisher': 1153, 'tagesschau': 1154, 'nachrichten': 1155, 'america': 1156, 'drama': 1157, 'electriccar': 1158, 'men': 1159, 'women': 1160, 'winter': 1161, 'erfrieren': 1162, 'lehrermomente': 1163, 'fühlen': 1164, 'turkishairlineseuroleague': 1165, 'aventadors': 1166, 'carspotting': 1167, 'lifestyle': 1168, 'luxurycar': 1169, 'milan': 1170, 'inter': 1171, 'ikea': 1172, 'ikeahack': 1173, 'ikeahacks': 1174, 'ikeafinds': 1175, 'ikeahaul': 1176, 'ikeadiy': 1177, 'ikeatok': 1178, 'ikeahacksdiy': 1179, 'makeover': 1180, 'diyhome': 1181, 'diyhomedecor': 1182, 'einrichtung': 1183, 'sortsö': 1184, 'youtube': 1185, 'drole': 1186, 'joyca': 1187, 'essaiedenepasrire': 1188, '😂': 1189, 'australia': 1190, 'flush': 1191, 'chaldean': 1192, 'iraq': 1193, 'pizza': 1194, 'brazil': 1195, 'brazil🇧🇷': 1196, 'ancientalien': 1197, 'ancientaliens': 1198, 'ufo': 1199, 'uap': 1200, 'aliens': 1201, 'alien': 1202, 'extraterrestials': 1203, 'extraterrestial': 1204, 'atlantis': 1205, 'youngerdryashypothesis': 1206, 'youngerdryas': 1207, 'youngerdryasimpact': 1208, 'pyramids': 1209, 'pyramid': 1210, 'bobesponja': 1211, 'spongebob': 1212, 'digitalartist': 1213, 'art': 1214, 'foru': 1215, 'fördig': 1216, 'boyfriend': 1217, 'coupletok': 1218, 'cuddles': 1219, 'madison': 1220, 'sconnies': 1221, 'uwmadison': 1222, 'kasurlipat': 1223, 'kasurlantai': 1224, 'kasurinthebox': 1225, 'fypdongggggggg': 1226, 'beatbox': 1227, 'beatboxprank': 1228, 'urdupoetry': 1229, 'sadpoetry': 1230, 'standwithkashmir': 1231, 'burhan_tv': 1232, 'paramedic': 1233, 'ambulance': 1234, 'rettungsdienst': 1235, 'tactical': 1236, 'tccc': 1237, 'casualty': 1238, 'sanitäter': 1239, 'medic': 1240, 'medicine': 1241, 'valentinoworks': 1242, 'stitch': 1243, 'missing': 1244, 'voicerecording': 1245, 'conspiracy': 1246, '5crew': 1247, 'deepsea': 1248, 'blacksea': 1249, 'miasanmia': 1250, 'fcbayern': 1251, 'fcbrbl': 1252, 'wcd2023': 1253, 'losangeles': 1254, 'la': 1255, 'california': 1256, 'hollywood': 1257, 'gta5': 1258, 'gta': 1259, 'lossantos': 1260, 'venicebeach': 1261, 'beetlejuice': 1262, 'василисакагановская': 1263, 'vasilisaandvaleriy': 1264, 'vasilisaandvaleriyedit': 1265, 'vasilisakaganovskaya': 1266, 'valeriyangelopol': 1267, 'figureskating': 1268, 'booktok': 1269, 'freiburg': 1270, 'viralvideos': 1271, 'alarm': 1272, 'socialexperiment': 1273, 'prankgonewrong': 1274, 'amazing': 1275, 'tiktokstore': 1276, 'tiktokstoreus': 1277, 'pillow': 1278, 'travelpillow': 1279, 'travelpillowneck': 1280, 'party': 1281, 'poolparty': 1282, 'partyfood': 1283, 'partyfoodideas': 1284, 'partysnackideas': 1285, 'partysnack': 1286, 'foodtok': 1287, 'yummy': 1288, 'jwebbycaneat': 1289, 'foodchallenge': 1290, 'burgerchallenge': 1291, 'buckshotsicehouse': 1292, 'screammovie': 1293, 'funnyprank': 1294, '😅': 1295, 'hissy': 1296, 'pubstpierre': 1297, 'fyrシ': 1298, 'pourtoii': 1299, 'epicmoment': 1300, 'bestclip': 1301, 'tiktokmovieclip': 1302, 'request': 1303, 'dragonball': 1304, 'fyyyyyyyyyyyyyyyy': 1305, 'humour': 1306, 'lmao': 1307, 'trinding': 1308, 'orthodox': 1309, 'icone': 1310, 'chretien': 1311, '☦️': 1312, 'jamfm': 1313, 'gang': 1314, 'crew': 1315, 'cocacola': 1316, 'neymar': 1317, 'danialves': 1318, 'thebestaward': 1319, '2017': 1320, 'elevatorboys': 1321, 'storywakeren': 1322, 'masukberanda': 1323, 'tiktokpelitfyp': 1324, 'hypnose': 1325, 'streethypnose': 1326, 'leshypnotiseurs': 1327, 'hypnotiseur': 1328, 'dors': 1329, 'hypnoteam': 1330, 'painting': 1331, '로프작업': 1332, 'альпинизм': 1333, 'работа': 1334, 'делаемкореюкрасивее': 1335, 'archive': 1336, 'climber': 1337, 'gopro': 1338, 'workhardplayhard': 1339, 'schule': 1340, 'abi': 1341, 'abitur': 1342, 'deutschland': 1343, 'schulsystem': 1344, 'hamm': 1345, 'stevenkodra': 1346, 'kamil': 1347, 'honischh': 1348, 'wundabah': 1349, 'christianef': 1350, 'kindervombahnhofzoo': 1351, 'christianeverafelscherinow': 1352, 'wirkindervombahhofzoo': 1353, 'pottery': 1354, 'artteacher': 1355, 'anmachspruch': 1356, 'flirt': 1357, 'scared': 1358, 'troll': 1359, 'supermarket': 1360, 'jeremyrenner': 1361, 'rennervations': 1362, 'disneyplus': 1363, 'jindouis❤️': 1364, 'naderjindaoui': 1365, 'nader🇪🇭': 1366, 'luisajindaoui': 1367, 'luisa🇵🇱': 1368, 'imanijindaoui': 1369, 'imani': 1370, 'imani🇵🇱🇪🇭': 1371, 'milajindaoui': 1372, 'mila🇪🇭': 1373, 'deutschgrammatik': 1374, 'airpods': 1375, 'airpodspro': 1376, 'applewatch': 1377, 'pro': 1378, 'promax': 1379, 'samsung': 1380, 'plus': 1381, 'ipad': 1382, 'caseiphone': 1383, 'ios': 1384, 'airpodscase': 1385, 'iphonex': 1386, 'appleiphone': 1387, 'case': 1388, '1': 1389, 'ipadpro': 1390, 's': 1391, 'bluetooth': 1392, 'k': 1393, 'applewatchseries': 1394, 'music': 1395, 'headphones': 1396, 'xiaomi': 1397, 'earbuds': 1398, 'macbook': 1399, 'appleairpods': 1400, 'swifttok': 1401, 'taylorswift': 1402, 'reputation': 1403, 'theerastour': 1404, 'tstheerastour': 1405, 'erastour': 1406, 'roomdecor': 1407, 'zia': 1408, 'kurdinausjapan🇯🇵': 1409, 'geschenk': 1410, 'geburtstag': 1411, 'diespezialisten': 1412, 'aufstreife': 1413, 'pistol': 1414, 'bedrohung': 1415, 'notarzt': 1416, 'barbaraschöneberger': 1417, 'barbaraschoeneberger': 1418, 'babsi': 1419, 'barbaraschönebergeredit': 1420, 'iconic': 1421, 'germany': 1422, 'german': 1423, 'yourethemanbutigotthepower': 1424, 'justkidding': 1425, 'terror': 1426, 'miedotiktok': 1427, '熱蠟師的日常': 1428, '熱蠟美肌': 1429, '熱蠟': 1430, '除毛': 1431, 'waxing': 1432, 'waxingtiktok': 1433, '樹林': 1434, '樹林除毛': 1435, '樹林熱蠟除毛': 1436, 'hotwaxing': 1437, 'hotwax': 1438, 'wax': 1439, '除毛師': 1440, 'gönntmir': 1441, 'lukas_712': 1442, 'fahaadk_': 1443, 'fahadasks': 1444, 'tomandjerry': 1445, 'توم_وجيري': 1446, 'tom': 1447, 'jerry': 1448, 'كرتون': 1449, 'balletflex': 1450, 'ballettok': 1451, 'dancer': 1452, 'ballet': 1453, 'ganglife💯': 1454, 'tiktokpromote': 1455, 'abirzkitchen': 1456, 'tortilla': 1457, 'wesamsung': 1458, 'döner': 1459, 'dönerberlin': 1460, 'berlin': 1461, '👨\\u200d🎓❤️❤️القرآن': 1462, 'deborahdeluca': 1463, 'brunchmalaga': 1464, 'creeds': 1465, 'irishguyjordan': 1466, 'funny_videom': 1467, 'weetok': 1468, 'wee': 1469, 'weememes': 1470, 'workwee': 1471, 'newnails': 1472, 'charity': 1473, 'gruseligesvideo': 1474, 'news': 1475, 'empreyoung': 1476, '49euroticket': 1477, '49euroticketgermany': 1478, '@Horror Media': 1479, 'foodstars': 1480, 'tiesto': 1481, 'shocked': 1482, 'scene': 1483, 'suprise': 1484, 'young': 1485, 'again': 1486, 'рекомендации❤️': 1487, 'тиктокпустивреки': 1488, 'купиайфон13': 1489, 'неудачливоечисло': 1490, 'schwangerschaft': 1491, 'livehack': 1492, 'gsd': 1493, 'germanshepherd': 1494, 'doglover': 1495, 'eskalation': 1496, 'bassmussdrücken': 1497, 'pitviper': 1498, 'pitvipersunglass': 1499, 'maschinengewehr': 1500, 'dadadadada': 1501, 'wespencity': 1502, 'jurassicworld': 1503, 'filmsandmoviescenes': 1504, 'ilovethisscene': 1505, 'bluelineisback': 1506, 'animalsoftheocean': 1507, 'mdalmin_5': 1508, 'upmotorhome': 1509, 'motorhome': 1510, 'vantour': 1511, 'parasitas': 1512, 'larvasdemosca': 1513, 'esquilo': 1514, 'cravos': 1515, 'princepoopoo': 1516, 'vibes': 1517, 'vibecheck': 1518, 'grocerystore': 1519, 'tiktokcalcio': 1520, 'drinking': 1521, 'fast': 1522, 'pasta': 1523, 'pastalover': 1524, 'pastarecipe': 1525, 'fastpasta': 1526, 'slenderman': 1527, 'deadghostx': 1528, '💀': 1529, 'exit?': 1530, 'skinwalker': 1531}\n"
     ]
    }
   ],
   "source": [
    "exclude_hashtags = ['fyp', '', 'foryou', 'viral', 'foryoupage', 'fypシ', 'fy', 'fürdich', 'trending', 'foryoupage', 'tiktok', 'viralvideo', 'fürdichseiteシ', '4u']\n",
    "hashtag_nodes = {}\n",
    "hashtag_edges = []\n",
    "for video in database.values():\n",
    "    listofhashtags = []\n",
    "    if \"textExtra\" in video:\n",
    "        for hashtag in video[\"textExtra\"]:\n",
    "            if hashtag[\"hashtagName\"] not in exclude_hashtags:\n",
    "                listofhashtags.append(hashtag[\"hashtagName\"])\n",
    "                if hashtag[\"hashtagName\"] not in hashtag_nodes:\n",
    "                    hashtag_nodes[hashtag[\"hashtagName\"]]=len(hashtag_nodes.keys())+1\n",
    "        for combination in combinations(listofhashtags, 2):\n",
    "            hashtag_edges.append([hashtag_nodes[combination[0]], hashtag_nodes[combination[1]]])"
   ]
  },
  {
   "cell_type": "code",
   "execution_count": 62,
   "metadata": {},
   "outputs": [],
   "source": [
    "\n",
    "net = pyvis.network.Network(notebook=False, cdn_resources=\"local\")\n",
    "\n",
    "                \n",
    "node_count = 1\n",
    "for hashtag in hashtag_nodes:\n",
    "    net.add_node(node_count, label=hashtag)\n",
    "    node_count+=1\n",
    "net.add_edges(hashtag_edges)\n",
    "net.show_buttons(filter_=\"physics\")\n",
    "net.show('selected_hashtags.html')\n"
   ]
  },
  {
   "cell_type": "code",
   "execution_count": null,
   "metadata": {},
   "outputs": [],
   "source": []
  }
 ],
 "metadata": {
  "kernelspec": {
   "display_name": "Python 3 (ipykernel)",
   "language": "python",
   "name": "python3"
  },
  "language_info": {
   "codemirror_mode": {
    "name": "ipython",
    "version": 3
   },
   "file_extension": ".py",
   "mimetype": "text/x-python",
   "name": "python",
   "nbconvert_exporter": "python",
   "pygments_lexer": "ipython3",
   "version": "3.11.3"
  }
 },
 "nbformat": 4,
 "nbformat_minor": 4
}
